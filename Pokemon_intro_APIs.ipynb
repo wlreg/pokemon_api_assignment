{
  "cells": [
    {
      "cell_type": "markdown",
      "id": "7196054f",
      "metadata": {
        "id": "7196054f"
      },
      "source": [
        "# Working with APIs"
      ]
    },
    {
      "cell_type": "markdown",
      "id": "0547b71e",
      "metadata": {
        "id": "0547b71e"
      },
      "source": [
        "API stands for Application programming interface<br>\n",
        "APIs are a way for applications to talk to eachother<br>\n",
        "In python we use the requests package to handle the connection<br>\n",
        "<small><strong>Note: It is requests with an s not request(this is a different package)</strong></small><br>\n",
        "Most API's communicate with data in the form of JSON<br>\n",
        "JSON stands for JavaScript Object Notation"
      ]
    },
    {
      "cell_type": "code",
      "execution_count": 1,
      "id": "4db9d154",
      "metadata": {
        "id": "4db9d154"
      },
      "outputs": [],
      "source": [
        "#import the packages we need:\n",
        "import requests, json"
      ]
    },
    {
      "cell_type": "markdown",
      "id": "e8c2ce51",
      "metadata": {
        "id": "e8c2ce51"
      },
      "source": [
        "We will be connecting to the Ergast F1 Racer API today:\n",
        "http://ergast.com/mrd/\n",
        "\n",
        "to view JSON data nicely in the Chrome browser install the extension JSONview"
      ]
    },
    {
      "cell_type": "code",
      "execution_count": null,
      "id": "52c440c6",
      "metadata": {
        "id": "52c440c6"
      },
      "outputs": [],
      "source": [
        "# help(requests)"
      ]
    },
    {
      "cell_type": "code",
      "execution_count": null,
      "id": "f60c1b4a",
      "metadata": {
        "id": "f60c1b4a"
      },
      "outputs": [],
      "source": [
        "url = 'http://ergast.com/api/f1/2008/5/driverStandings.json'"
      ]
    },
    {
      "cell_type": "code",
      "execution_count": null,
      "id": "7b63a204",
      "metadata": {
        "colab": {
          "base_uri": "https://localhost:8080/"
        },
        "id": "7b63a204",
        "outputId": "60da7bb0-cf81-4bda-cc84-0b1ff9681327"
      },
      "outputs": [
        {
          "output_type": "stream",
          "name": "stdout",
          "text": [
            "<Response [200]>\n"
          ]
        }
      ],
      "source": [
        "#response object\n",
        "response = requests.get(url)\n",
        "print(response)\n"
      ]
    },
    {
      "cell_type": "code",
      "execution_count": null,
      "id": "c6d1fdaf",
      "metadata": {
        "colab": {
          "base_uri": "https://localhost:8080/"
        },
        "id": "c6d1fdaf",
        "outputId": "846127df-5fa0-494e-d59b-19fe328e7b34"
      },
      "outputs": [
        {
          "output_type": "execute_result",
          "data": {
            "text/plain": [
              "True"
            ]
          },
          "metadata": {},
          "execution_count": 4
        }
      ],
      "source": [
        "#check and make sure we got a successful response from the API\n",
        "response.ok "
      ]
    },
    {
      "cell_type": "code",
      "execution_count": null,
      "id": "ed4d3256",
      "metadata": {
        "id": "ed4d3256"
      },
      "outputs": [],
      "source": [
        "#view the response as a JSON\n",
        "response.json() "
      ]
    },
    {
      "cell_type": "code",
      "execution_count": null,
      "id": "92e6cd2c",
      "metadata": {
        "colab": {
          "base_uri": "https://localhost:8080/"
        },
        "id": "92e6cd2c",
        "outputId": "b3a96900-7fe0-4466-fffa-3302c1c94eea"
      },
      "outputs": [
        {
          "output_type": "execute_result",
          "data": {
            "text/plain": [
              "dict"
            ]
          },
          "metadata": {},
          "execution_count": 6
        }
      ],
      "source": [
        "type(response.json())"
      ]
    },
    {
      "cell_type": "code",
      "execution_count": null,
      "id": "f074dfcf",
      "metadata": {
        "id": "f074dfcf"
      },
      "outputs": [],
      "source": [
        "# We only want the Driver Standings\n",
        "#for x in range(5):\n",
        "#    data = response.json()['MRData']['StandingsTable']['StandingsLists'][0]['DriverStandings'][x]['Driver']['familyName']\n",
        "#    print(f'{x + 1}. {data}')\n",
        "\n",
        "my_racer_data = response.json()['MRData']['StandingsTable']['StandingsLists'][0]['DriverStandings']\n",
        "my_racer_data "
      ]
    },
    {
      "cell_type": "code",
      "execution_count": null,
      "id": "be46a950",
      "metadata": {
        "id": "be46a950"
      },
      "outputs": [],
      "source": [
        "def get_racer_info(data):\n",
        "    new_data = []\n",
        "    for racer in data:\n",
        "        racer_dict = {}\n",
        "        racer_name = f'{racer[\"Driver\"][\"givenName\"]} {racer[\"Driver\"][\"familyName\"]}'\n",
        "\n",
        "        racer_dict[racer_name] = {\n",
        "            'first_name': racer[\"Driver\"][\"givenName\"],\n",
        "            'last_name': racer[\"Driver\"][\"familyName\"],\n",
        "            'position': racer[\"position\"],\n",
        "            'wins': racer[\"wins\"],\n",
        "            'DOB': racer[\"Driver\"][\"dateOfBirth\"],\n",
        "            'nationality': racer[\"Driver\"][\"nationality\"],\n",
        "            'constructor': racer[\"Constructors\"][0][\"name\"]\n",
        "        }\n",
        "        new_data.append(racer_dict)\n",
        "    return new_data \n",
        "\n",
        "get_racer_info(my_racer_data)"
      ]
    },
    {
      "cell_type": "code",
      "execution_count": null,
      "id": "3740c752",
      "metadata": {
        "id": "3740c752"
      },
      "outputs": [],
      "source": [
        "def get_driver_info_by_year_and_round(year, r):\n",
        "    url = f'http://ergast.com/api/f1/{year}/{r}/driverStandings.json'\n",
        "    response = requests.get(url)\n",
        "    if not response.json()['MRData']['StandingsTable']['StandingsLists']:\n",
        "        return \"We had an error loading your data, it is likely the year or round is not in database\"\n",
        "    data = response.json()['MRData']['StandingsTable']['StandingsLists'][0]['DriverStandings']\n",
        "    return get_racer_info(data)    \n",
        "\n",
        "get_driver_info_by_year_and_round(2019, 4)    "
      ]
    },
    {
      "cell_type": "markdown",
      "id": "6d546014",
      "metadata": {
        "id": "6d546014"
      },
      "source": [
        "# <strong>Homework</strong>\n",
        "check out this Pokemon API https://pokeapi.co/\n",
        "Use the requests package to connect to this API and get and store data for 5 different pokemon.\n",
        "Get the pokemons: name, atleast one ability's name, base_experience, and the URL for its sprite (an image that shows up on screen) for the 'front_shiny', attack base_state, hp base_stat, defense base_stat"
      ]
    },
    {
      "cell_type": "code",
      "execution_count": 33,
      "id": "5a9081e3",
      "metadata": {
        "id": "5a9081e3",
        "colab": {
          "base_uri": "https://localhost:8080/"
        },
        "outputId": "a494054e-9e90-4c2b-fec1-5e2f2caea78a"
      },
      "outputs": [
        {
          "output_type": "stream",
          "name": "stdout",
          "text": [
            "Geodude has a stronger attack than Pikachu\n",
            "Flareon has a stronger attack than Slowbro\n",
            "Rhydon has a stronger attack than Charizard\n",
            "Mewtwo has a stronger attack than Magmar\n",
            "Tauros has a stronger attack than Squirtle\n"
          ]
        }
      ],
      "source": [
        "### NAME, ONE ABILITY NAME, BASE_XP, FRONT_SHINY_URL, ATTACK_BASE, HP_BASE, DEFENSE_BASE\n",
        "\n",
        "import requests, json \n",
        "\n",
        "def make_pokemon_deck(poke_1, poke_2, poke_3, poke_4, poke_5):\n",
        "    \"\"\"parameters can be pokemon's name or id number\"\"\"\n",
        "    poke_list = [poke_1, poke_2, poke_3, poke_4, poke_5]\n",
        "    pokemon_deck = []\n",
        "    index = 0\n",
        "    for name in poke_list:\n",
        "        poke_info = {}   \n",
        "        url = f'https://pokeapi.co/api/v2/pokemon/{name}'\n",
        "        response = requests.get(url)\n",
        "        if response.ok == False:\n",
        "            return 'Error loading your data. Please make sure spelling or ID number is correct.'\n",
        "        poke_data = response.json()\n",
        "        poke_info[index] = {\n",
        "            'Name' : poke_data['name'],\n",
        "            'Slot_1_Ability' : poke_data['abilities'][0]['ability']['name'],\n",
        "            'XP_Base' : poke_data['base_experience'],\n",
        "            'Sprite_URL' : poke_data['sprites']['front_shiny'],\n",
        "            'HP_Base' : poke_data['stats'][0]['base_stat'],\n",
        "            'Attack_Base' : poke_data['stats'][1]['base_stat'],\n",
        "            'Defense_Base' : poke_data['stats'][2]['base_stat'],\n",
        "        }  \n",
        "        pokemon_deck.append(poke_info)\n",
        "        index += 1\n",
        "    return pokemon_deck \n",
        "\n",
        "## you can now make a deck of 5 different pokemon, save however many decks\n",
        "## as different variables to mix and match pokemon strengths/weaknesses\n",
        "## feel free to choose whatever pokemon you want to mess around\n",
        "\n",
        "pokemon_deck_1 = make_pokemon_deck(25, 'flareon', 6, 'mewtwo', 'squirtle')\n",
        "pokemon_deck_2 = make_pokemon_deck(74, 80, 112, 126, 128)\n",
        "\n",
        "pokemon_deck_1 \n",
        "pokemon_deck_2\n",
        "\n",
        "# Next I created a function that can compare attack powers of pokemon from different decks\n",
        "# Will compare pokemon with respective index from other deck, so rank your pokemon from 1 to 5\n",
        "\n",
        "\n",
        "def compare_deck_attack_power(deck_1, deck_2):\n",
        "    \"\"\" Both parameters must be lists \"\"\"\n",
        "    for num in range(5):\n",
        "        if deck_1[num][num]['Attack_Base'] > deck_2[num][num]['Attack_Base']:\n",
        "            print(deck_1[num][num]['Name'].title() + \" has a stronger attack than \" + deck_2[num][num]['Name'].title())\n",
        "        elif deck_2[num][num]['Attack_Base'] > deck_1[num][num]['Attack_Base']:\n",
        "            print(deck_2[num][num]['Name'].title() + \" has a stronger attack than \" + deck_1[num][num]['Name'].title())\n",
        "        else:\n",
        "            print('Woah. Stalemate.')\n",
        "\n",
        "compare_deck_attack_power(pokemon_deck_1, pokemon_deck_2)\n",
        " "
      ]
    }
  ],
  "metadata": {
    "kernelspec": {
      "display_name": "Python 3 (ipykernel)",
      "language": "python",
      "name": "python3"
    },
    "language_info": {
      "codemirror_mode": {
        "name": "ipython",
        "version": 3
      },
      "file_extension": ".py",
      "mimetype": "text/x-python",
      "name": "python",
      "nbconvert_exporter": "python",
      "pygments_lexer": "ipython3",
      "version": "3.9.7"
    },
    "colab": {
      "provenance": [],
      "collapsed_sections": []
    }
  },
  "nbformat": 4,
  "nbformat_minor": 5
}